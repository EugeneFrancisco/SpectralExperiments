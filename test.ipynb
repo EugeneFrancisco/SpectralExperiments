{
 "cells": [
  {
   "cell_type": "code",
   "execution_count": 10,
   "metadata": {},
   "outputs": [],
   "source": [
    "import numpy as np\n",
    "from matplotlib import pyplot as plt\n",
    "import random"
   ]
  },
  {
   "cell_type": "code",
   "execution_count": 112,
   "metadata": {},
   "outputs": [],
   "source": [
    "def randomGraph(n, p):\n",
    "    ''' \n",
    "    Returns the numpy matrix associated with a random graph on n vertices,\n",
    "    where each pair of vertices has probability p of being connected.\n",
    "    '''\n",
    "    matrix = np.zeros((n, n))\n",
    "    for i in range(n):\n",
    "        for j in range(i):\n",
    "            coin = random.random()\n",
    "            if coin < p:\n",
    "                matrix[(i, j)] = 1\n",
    "                matrix[(j, i)] = 1\n",
    "    return matrix\n",
    "\n",
    "def dRegularCycles(n, d):\n",
    "    ''' \n",
    "    Given n and d (which has d + 1|n), returns a \"very cliquey\" graph, defined below.\n",
    "\n",
    "    The vibe here is to make a graph which is d regular but expands very poorly. To force this,\n",
    "    we'll divide the the vertex set into partitions of d + 1 vertices. Then each of these sub vertex\n",
    "    sets will be fully connected and form a clique.\n",
    "\n",
    "    Each vertex is part of exactly one d + 1 connected clique, and so has out degree d.\n",
    "    '''\n",
    "\n",
    "    numVertexSets = int(n / (d + 1))\n",
    "    result = np.zeros((n, n))\n",
    "\n",
    "    # d+1 x d+1 matrix for the connected cliques\n",
    "    fullyConnected = np.ones((d + 1, d + 1))\n",
    "    np.fill_diagonal(fullyConnected, 0)\n",
    "\n",
    "    # Fill adjacency matrix with the connected cliques\n",
    "    for i in range(numVertexSets):\n",
    "        startIndex = i*(d + 1)\n",
    "        result[startIndex:(startIndex + d + 1), startIndex:(startIndex + d + 1)] = fullyConnected\n",
    "\n",
    "    return result\n",
    "\n",
    "\n",
    "\n",
    "def maxEigVal(matrix):\n",
    "    ''' \n",
    "    Given the adjacency matrix of an undirected graph, returns the largest eigenvalue\n",
    "    '''\n",
    "    eigVals = np.linalg.eigvalsh(matrix)\n",
    "    return max(eigVals)\n",
    "    "
   ]
  },
  {
   "cell_type": "code",
   "execution_count": 113,
   "metadata": {},
   "outputs": [
    {
     "name": "stdout",
     "output_type": "stream",
     "text": [
      "[[0. 1. 1. 1. 0. 0. 0. 0. 1. 1.]\n",
      " [1. 0. 1. 1. 0. 0. 0. 0. 1. 1.]\n",
      " [1. 1. 0. 1. 0. 0. 0. 0. 1. 1.]\n",
      " [1. 1. 1. 0. 0. 0. 0. 0. 1. 1.]\n",
      " [0. 0. 0. 0. 0. 1. 1. 1. 0. 0.]\n",
      " [0. 0. 0. 0. 1. 0. 1. 1. 0. 0.]\n",
      " [0. 0. 0. 0. 1. 1. 0. 1. 0. 0.]\n",
      " [0. 0. 0. 0. 1. 1. 1. 0. 0. 0.]\n",
      " [1. 1. 1. 1. 0. 0. 0. 0. 0. 0.]\n",
      " [1. 1. 1. 1. 0. 0. 0. 0. 0. 0.]]\n"
     ]
    }
   ],
   "source": [
    "matrix = dRegularCycles(10, 3)\n",
    "print(matrix)"
   ]
  }
 ],
 "metadata": {
  "kernelspec": {
   "display_name": "Python 3.9.2 ('projectEnv': venv)",
   "language": "python",
   "name": "python3"
  },
  "language_info": {
   "codemirror_mode": {
    "name": "ipython",
    "version": 3
   },
   "file_extension": ".py",
   "mimetype": "text/x-python",
   "name": "python",
   "nbconvert_exporter": "python",
   "pygments_lexer": "ipython3",
   "version": "3.9.2"
  },
  "orig_nbformat": 4,
  "vscode": {
   "interpreter": {
    "hash": "67cc335141b847c5b49edf0257c7542dbcd45042431cdfd652abea8aee20f15d"
   }
  }
 },
 "nbformat": 4,
 "nbformat_minor": 2
}
