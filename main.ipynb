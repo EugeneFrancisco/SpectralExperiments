{
 "cells": [
  {
   "cell_type": "code",
   "execution_count": 4,
   "metadata": {},
   "outputs": [],
   "source": [
    "import numpy as np\n",
    "from matplotlib import pyplot as plt\n",
    "import random"
   ]
  },
  {
   "cell_type": "code",
   "execution_count": 6,
   "metadata": {},
   "outputs": [],
   "source": [
    "def randomGraph(n, p):\n",
    "    ''' \n",
    "    Returns the numpy matrix associated with a random graph on n vertices,\n",
    "    where each pair of vertices has probability p of being connected.\n",
    "    '''\n",
    "    matrix = np.zeros((n, n))\n",
    "    for i in range(n):\n",
    "        for j in range(i):\n",
    "            coin = random.random()\n",
    "            if coin < p:\n",
    "                matrix[(i, j)] = 1\n",
    "                matrix[(j, i)] = 1\n",
    "    return matrix\n",
    "\n",
    "def dRegularCycles(n, d):\n",
    "    ''' \n",
    "    Given n and d (which has d + 1|n), returns a \"very cliquey\" graph, defined below.\n",
    "\n",
    "    The vibe here is to make a graph which is d regular but expands very poorly. To force this,\n",
    "    we'll divide the the vertex set into partitions of d + 1 vertices. Then each of these sub vertex\n",
    "    sets will be fully connected and form a clique.\n",
    "\n",
    "    Each vertex is part of exactly one d + 1 connected clique, and so has out degree d.\n",
    "    '''\n",
    "\n",
    "    numVertexSets = int(n / (d + 1))\n",
    "    result = np.zeros((n, n))\n",
    "\n",
    "    # d+1 x d+1 matrix for the connected cliques\n",
    "    fullyConnected = np.ones((d + 1, d + 1))\n",
    "    np.fill_diagonal(fullyConnected, 0)\n",
    "\n",
    "    # Fill adjacency matrix with the connected cliques\n",
    "    for i in range(numVertexSets):\n",
    "        startIndex = i*(d + 1)\n",
    "        result[startIndex:(startIndex + d + 1), startIndex:(startIndex + d + 1)] = fullyConnected\n",
    "\n",
    "    return result\n",
    "\n",
    "\n",
    "\n",
    "def findLambda1(matrix):\n",
    "    ''' \n",
    "    Given the adjacency matrix of an undirected graph, returns the largest eigenvalue\n",
    "    '''\n",
    "    eigVals = np.linalg.eigvalsh(matrix)\n",
    "    return max(eigVals)\n",
    "\n",
    "def findLambda2(matrix):\n",
    "    '''     \n",
    "    Given the adjacency matrix of an undirected graph, returns the second largest eigenvalue\n",
    "    '''\n",
    "    largest = second_largest = float('-inf')\n",
    "    eigVals = np.linalg.eigvalsh(matrix)\n",
    "\n",
    "    for num in eigVals:\n",
    "        if num > largest:\n",
    "            second_largest = largest\n",
    "            largest = num\n",
    "        elif num > second_largest and num != largest:\n",
    "            second_largest = num\n",
    "    \n",
    "    return second_largest\n",
    "    "
   ]
  },
  {
   "cell_type": "code",
   "execution_count": 10,
   "metadata": {},
   "outputs": [
    {
     "name": "stdout",
     "output_type": "stream",
     "text": [
      "20.10933326497672\n",
      "8.065390039294323\n",
      "12.043943225682396\n"
     ]
    }
   ],
   "source": [
    "n = 200\n",
    "d = 19\n",
    "p = d/n\n",
    "\n",
    "randomMatrix = randomGraph(n, p)\n",
    "cliqueyMatrix = dRegularCycles(n, d)\n",
    "\n",
    "randomLambda1 = findLambda1(randomMatrix)\n",
    "randomLambda2 = findLambda2(randomMatrix)\n",
    "cliqueyLambda1 = findLambda1(cliqueyMatrix)\n",
    "cliqueyLambda2 = findLambda2(cliqueyMatrix)\n",
    "\n",
    "print(randomLambda1)\n",
    "print(randomLambda2)\n",
    "print(randomLambda1 - randomLambda2)\n",
    "\n"
   ]
  },
  {
   "cell_type": "code",
   "execution_count": 1,
   "metadata": {},
   "outputs": [
    {
     "name": "stdout",
     "output_type": "stream",
     "text": [
      "/Users/eugja/opt/anaconda3/envs/spectralEnv/bin/python\n"
     ]
    }
   ],
   "source": []
  }
 ],
 "metadata": {
  "kernelspec": {
   "display_name": "Python 3.10.15 ('spectralEnv')",
   "language": "python",
   "name": "python3"
  },
  "language_info": {
   "codemirror_mode": {
    "name": "ipython",
    "version": 3
   },
   "file_extension": ".py",
   "mimetype": "text/x-python",
   "name": "python",
   "nbconvert_exporter": "python",
   "pygments_lexer": "ipython3",
   "version": "3.10.15"
  },
  "orig_nbformat": 4,
  "vscode": {
   "interpreter": {
    "hash": "ca8176fe7588166f3af27bda69119406232d8007aacf3d988ad0cd818edd2f74"
   }
  }
 },
 "nbformat": 4,
 "nbformat_minor": 2
}
